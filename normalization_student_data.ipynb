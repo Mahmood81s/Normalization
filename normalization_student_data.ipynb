{
  "nbformat": 4,
  "nbformat_minor": 0,
  "metadata": {
    "colab": {
      "name": "normalization student data.ipynb",
      "provenance": [],
      "authorship_tag": "ABX9TyNgqJ2pPz/czYs7eZ4NhFVJ",
      "include_colab_link": true
    },
    "kernelspec": {
      "name": "python3",
      "display_name": "Python 3"
    },
    "language_info": {
      "name": "python"
    }
  },
  "cells": [
    {
      "cell_type": "markdown",
      "metadata": {
        "id": "view-in-github",
        "colab_type": "text"
      },
      "source": [
        "<a href=\"https://colab.research.google.com/github/Mahmood81s/Normalization/blob/main/normalization_student_data.ipynb\" target=\"_parent\"><img src=\"https://colab.research.google.com/assets/colab-badge.svg\" alt=\"Open In Colab\"/></a>"
      ]
    },
    {
      "cell_type": "code",
      "metadata": {
        "id": "vKMsWLUkFKJQ"
      },
      "source": [
        "import matplotlib.pyplot as plt\n",
        "import seaborn as sns\n",
        "import numpy as np\n",
        "import pandas as pd\n",
        "import seaborn as sns\n",
        "import scipy.stats as stats\n",
        "from scipy.stats.mstats import winsorize\n",
        "from sqlalchemy import create_engine\n",
        "import warnings\n",
        "\n",
        "\n",
        "\n",
        "postgres_user = 'dsbc_student'\n",
        "postgres_pw = '7*.8G9QH21'\n",
        "postgres_host = '142.93.121.174'\n",
        "postgres_port = '5432'\n",
        "postgres_db = 'studentsperformance'\n",
        "\n",
        "engine2 = create_engine('postgresql://{}:{}@{}:{}/{}'.format(\n",
        "    postgres_user, postgres_pw, postgres_host, postgres_port, postgres_db))\n",
        "\n",
        "df = pd.read_sql_query('select * from studentsperformance',con=engine2)\n",
        "\n",
        "# No need for an open connection, \n",
        "# because you're only doing a single query\n",
        "engine2.dispose()"
      ],
      "execution_count": null,
      "outputs": []
    },
    {
      "cell_type": "code",
      "metadata": {
        "colab": {
          "base_uri": "https://localhost:8080/",
          "height": 196
        },
        "id": "DziRRDm_FoAp",
        "outputId": "05e76a3f-11a3-4a3e-a303-0522a3d180e3"
      },
      "source": [
        "df.head()"
      ],
      "execution_count": null,
      "outputs": [
        {
          "output_type": "execute_result",
          "data": {
            "text/html": [
              "<div>\n",
              "<style scoped>\n",
              "    .dataframe tbody tr th:only-of-type {\n",
              "        vertical-align: middle;\n",
              "    }\n",
              "\n",
              "    .dataframe tbody tr th {\n",
              "        vertical-align: top;\n",
              "    }\n",
              "\n",
              "    .dataframe thead th {\n",
              "        text-align: right;\n",
              "    }\n",
              "</style>\n",
              "<table border=\"1\" class=\"dataframe\">\n",
              "  <thead>\n",
              "    <tr style=\"text-align: right;\">\n",
              "      <th></th>\n",
              "      <th>gender</th>\n",
              "      <th>race/ethnicity</th>\n",
              "      <th>parental level of education</th>\n",
              "      <th>lunch</th>\n",
              "      <th>test preparation course</th>\n",
              "      <th>math score</th>\n",
              "      <th>reading score</th>\n",
              "      <th>writing score</th>\n",
              "    </tr>\n",
              "  </thead>\n",
              "  <tbody>\n",
              "    <tr>\n",
              "      <th>0</th>\n",
              "      <td>female</td>\n",
              "      <td>group B</td>\n",
              "      <td>bachelor's degree</td>\n",
              "      <td>standard</td>\n",
              "      <td>none</td>\n",
              "      <td>72</td>\n",
              "      <td>72</td>\n",
              "      <td>74</td>\n",
              "    </tr>\n",
              "    <tr>\n",
              "      <th>1</th>\n",
              "      <td>female</td>\n",
              "      <td>group C</td>\n",
              "      <td>some college</td>\n",
              "      <td>standard</td>\n",
              "      <td>completed</td>\n",
              "      <td>69</td>\n",
              "      <td>90</td>\n",
              "      <td>88</td>\n",
              "    </tr>\n",
              "    <tr>\n",
              "      <th>2</th>\n",
              "      <td>female</td>\n",
              "      <td>group B</td>\n",
              "      <td>master's degree</td>\n",
              "      <td>standard</td>\n",
              "      <td>none</td>\n",
              "      <td>90</td>\n",
              "      <td>95</td>\n",
              "      <td>93</td>\n",
              "    </tr>\n",
              "    <tr>\n",
              "      <th>3</th>\n",
              "      <td>male</td>\n",
              "      <td>group A</td>\n",
              "      <td>associate's degree</td>\n",
              "      <td>free/reduced</td>\n",
              "      <td>none</td>\n",
              "      <td>47</td>\n",
              "      <td>57</td>\n",
              "      <td>44</td>\n",
              "    </tr>\n",
              "    <tr>\n",
              "      <th>4</th>\n",
              "      <td>male</td>\n",
              "      <td>group C</td>\n",
              "      <td>some college</td>\n",
              "      <td>standard</td>\n",
              "      <td>none</td>\n",
              "      <td>76</td>\n",
              "      <td>78</td>\n",
              "      <td>75</td>\n",
              "    </tr>\n",
              "  </tbody>\n",
              "</table>\n",
              "</div>"
            ],
            "text/plain": [
              "   gender race/ethnicity  ... reading score writing score\n",
              "0  female        group B  ...            72            74\n",
              "1  female        group C  ...            90            88\n",
              "2  female        group B  ...            95            93\n",
              "3    male        group A  ...            57            44\n",
              "4    male        group C  ...            78            75\n",
              "\n",
              "[5 rows x 8 columns]"
            ]
          },
          "metadata": {
            "tags": []
          },
          "execution_count": 2
        }
      ]
    },
    {
      "cell_type": "markdown",
      "metadata": {
        "id": "Ajl2aU86GVCD"
      },
      "source": [
        "1. Are the exam score variables normally distributed? If not, apply a Box-Cox transformation. Does anything change?\n"
      ]
    },
    {
      "cell_type": "code",
      "metadata": {
        "colab": {
          "base_uri": "https://localhost:8080/",
          "height": 321
        },
        "id": "t0AM6YgSFS1O",
        "outputId": "e0fac39b-5b71-4b69-e3ad-ba4dc3a926d5"
      },
      "source": [
        "plt.figure(figsize=(18,15))\n",
        "plt.subplot(3, 3, 1)\n",
        "plt.hist(df[\"math score\"])\n",
        "plt.title(\"histogram of math score\")\n",
        "\n",
        "plt.subplot(3, 3, 2)\n",
        "plt.hist(df[\"writing score\"])\n",
        "plt.title(\"histogram of writing score\")\n",
        "\n",
        "plt.subplot(3, 3, 3)\n",
        "plt.hist(df[\"reading score\"])\n",
        "plt.title(\"histogram of reading score\")"
      ],
      "execution_count": null,
      "outputs": [
        {
          "output_type": "execute_result",
          "data": {
            "text/plain": [
              "Text(0.5, 1.0, 'histogram of reading score')"
            ]
          },
          "metadata": {
            "tags": []
          },
          "execution_count": 20
        },
        {
          "output_type": "display_data",
          "data": {
            "image/png": "[encoded data removed]",
            "text/plain": [
              "<Figure size 1296x1080 with 3 Axes>"
            ]
          },
          "metadata": {
            "tags": [],
            "needs_background": "light"
          }
        }
      ]
    },
    {
      "cell_type": "markdown",
      "metadata": {
        "id": "JddnSfSkHSAP"
      },
      "source": [
        "not normally distributed "
      ]
    },
    {
      "cell_type": "code",
      "metadata": {
        "colab": {
          "base_uri": "https://localhost:8080/"
        },
        "id": "OqBQBZ3VGzxt",
        "outputId": "3fea6a78-27fb-4d91-f2a2-d2c7825a2dd2"
      },
      "source": [
        "from scipy.stats import jarque_bera\n",
        "from scipy.stats import normaltest\n",
        "\n",
        "jb_stats = jarque_bera(df[\"math score\"])\n",
        "norm_stats = normaltest(df[\"math score\"])\n",
        "\n",
        "print(\"Jarque-Bera test statistics is {0} and p value is {1}\".format(jb_stats[0], jb_stats[1]))\n",
        "print(\"Normality test statistics is {0} and p value is {1}\".format(norm_stats[0], norm_stats[1]))\n",
        "\n",
        "jb_stats = jarque_bera(df[\"writing score\"])\n",
        "norm_stats = normaltest(df[\"writing score\"])\n",
        "\n",
        "print(\"Jarque-Bera test statistics is {0} and p value is {1}\".format(jb_stats[0], jb_stats[1]))\n",
        "print(\"Normality test statistics is {0} and p value is {1}\".format(norm_stats[0], norm_stats[1]))\n",
        "\n",
        "jb_stats = jarque_bera(df[\"reading score\"])\n",
        "norm_stats = normaltest(df[\"reading score\"])\n",
        "\n",
        "print(\"Jarque-Bera test statistics is {0} and p value is {1}\".format(jb_stats[0], jb_stats[1]))\n",
        "print(\"Normality test statistics is {0} and p value is {1}\".format(norm_stats[0], norm_stats[1]))"
      ],
      "execution_count": null,
      "outputs": [
        {
          "output_type": "stream",
          "text": [
            "Jarque-Bera test statistics is 15.912256686712709 and p value is 0.0003505075386818213\n",
            "Normality test statistics is 15.408960513931822 and p value is 0.00045080293869937836\n",
            "Jarque-Bera test statistics is 13.98509448257235 and p value is 0.0009187033894586527\n",
            "Normality test statistics is 13.606450837263859 and p value is 0.0011101885439899974\n",
            "Jarque-Bera test statistics is 11.383300575987892 and p value is 0.0033740202672214448\n",
            "Normality test statistics is 11.11741279628622 and p value is 0.003853758403576582\n"
          ],
          "name": "stdout"
        }
      ]
    },
    {
      "cell_type": "markdown",
      "metadata": {
        "id": "S_I6Ag1xHiGC"
      },
      "source": [
        "based on statistics not normally distributed. "
      ]
    },
    {
      "cell_type": "code",
      "metadata": {
        "colab": {
          "base_uri": "https://localhost:8080/",
          "height": 336
        },
        "id": "ESS3KA2_Hhq-",
        "outputId": "fbdc3e88-4998-4488-9782-4f6dcef28c2e"
      },
      "source": [
        "from scipy.stats import boxcox\n",
        "\n",
        "math_boxcox,_ = boxcox(df[df[\"math score\"] > 0][\"math score\"])\n",
        "reading_boxcox,_ = boxcox(df[\"reading score\"])\n",
        "writing_boxcox,_ = boxcox(df[\"writing score\"])\n",
        "plt.figure(figsize=(18,5))\n",
        "\n",
        "# Histograms of the Box-Cox-transformed data\n",
        "plt.subplot(1, 3, 1)\n",
        "plt.hist(math_score_boxcox)\n",
        "plt.title(\"histogram of math score (box-cox transformed)\")\n",
        "\n",
        "plt.subplot(1, 3, 2)\n",
        "plt.hist(writing_score_boxcox)\n",
        "plt.title(\"histogram of writing score (box-cox transformed)\")\n",
        "\n",
        "plt.subplot(1, 3, 3)\n",
        "plt.hist(reading_score_boxcox)\n",
        "plt.title(\"histogram of reading score (box-cox transformed)\")\n",
        "\n",
        "plt.show()"
      ],
      "execution_count": null,
      "outputs": [
        {
          "output_type": "display_data",
          "data": {
            "image/png": "[encoded data removed]",
            "text/plain": [
              "<Figure size 1296x360 with 3 Axes>"
            ]
          },
          "metadata": {
            "tags": [],
            "needs_background": "light"
          }
        }
      ]
    },
    {
      "cell_type": "code",
      "metadata": {
        "colab": {
          "base_uri": "https://localhost:8080/"
        },
        "id": "YTswNFVaPw78",
        "outputId": "b94c124a-868f-4503-8aeb-426f336c9d71"
      },
      "source": [
        "jb_stats = jarque_bera(math_boxcox)\n",
        "norm_stats = normaltest(math_boxcox)\n",
        "\n",
        "print(\"Jarque-Bera test statistics is {0} and p value is {1}\".format(jb_stats[0], jb_stats[1]))\n",
        "print(\"Normality test statistics is {0} and p value is {1}\".format(norm_stats[0], norm_stats[1]))\n",
        "\n",
        "jb_stats = jarque_bera(writing_boxcox)\n",
        "norm_stats = normaltest(writing_boxcox)\n",
        "\n",
        "print(\"Jarque-Bera test statistics is {0} and p value is {1}\".format(jb_stats[0], jb_stats[1]))\n",
        "print(\"Normality test statistics is {0} and p value is {1}\".format(norm_stats[0], norm_stats[1]))\n",
        "\n",
        "jb_stats = jarque_bera(reading_boxcox)\n",
        "norm_stats = normaltest(reading_boxcox)\n",
        "\n",
        "print(\"Jarque-Bera test statistics is {0} and p value is {1}\".format(jb_stats[0], jb_stats[1]))\n",
        "print(\"Normality test statistics is {0} and p value is {1}\".format(norm_stats[0], norm_stats[1]))"
      ],
      "execution_count": null,
      "outputs": [
        {
          "output_type": "stream",
          "text": [
            "Jarque-Bera test statistics is 1.7200982636836308 and p value is 0.42314129209599327\n",
            "Normality test statistics is 1.8323075851586939 and p value is 0.4000547794685686\n",
            "Jarque-Bera test statistics is 4.746478090042761 and p value is 0.09317842784043195\n",
            "Normality test statistics is 6.267311355052559 and p value is 0.04355827085003712\n",
            "Jarque-Bera test statistics is 4.119778573559666 and p value is 0.127468081515408\n",
            "Normality test statistics is 5.282274606965809 and p value is 0.07128015626992971\n"
          ],
          "name": "stdout"
        }
      ]
    },
    {
      "cell_type": "markdown",
      "metadata": {
        "id": "-nN3JSN8XlpE"
      },
      "source": [
        "we see after applying boxcox transformation, variables are normaly distributed"
      ]
    },
    {
      "cell_type": "markdown",
      "metadata": {
        "id": "IjVZL1OcXgpf"
      },
      "source": [
        "2.Say you want to use a single variable for the exam scores as your target. For this purpose, create a new variable by taking a weighted average of the exam scores. Check whether this new variable is normally distributed. If it's not normally distributed, apply a Box-Cox transformation and check whether or not the transformed variable is normally distributed.\n",
        "Which variables seem related to the target variable (the newly created variable from the previous question)? If your goal is to explain the determinants of success in exams, which variables in your dataset might be useful?"
      ]
    },
    {
      "cell_type": "code",
      "metadata": {
        "colab": {
          "base_uri": "https://localhost:8080/",
          "height": 353
        },
        "id": "4Yh0LQvaSvf4",
        "outputId": "0fb314b5-c75a-4a2a-9174-d4b6ea782e74"
      },
      "source": [
        "exam_scores = (df['math score'] + df['writing score'] + df['reading score'])/3\n",
        "\n",
        "plt.figure(figsize=(6,5))\n",
        "plt.hist(exam_scores)\n",
        "plt.title('average of exam scores')"
      ],
      "execution_count": null,
      "outputs": [
        {
          "output_type": "execute_result",
          "data": {
            "text/plain": [
              "Text(0.5, 1.0, 'average of exam scores')"
            ]
          },
          "metadata": {
            "tags": []
          },
          "execution_count": 47
        },
        {
          "output_type": "display_data",
          "data": {
            "image/png": "[encoded data removed]",
            "text/plain": [
              "<Figure size 432x360 with 1 Axes>"
            ]
          },
          "metadata": {
            "tags": [],
            "needs_background": "light"
          }
        }
      ]
    },
    {
      "cell_type": "markdown",
      "metadata": {
        "id": "VbgVP4lNZG22"
      },
      "source": [
        "not normally distributed based on histogram"
      ]
    },
    {
      "cell_type": "code",
      "metadata": {
        "colab": {
          "base_uri": "https://localhost:8080/"
        },
        "id": "2Oa_GUHUYzE6",
        "outputId": "87626b9d-43bb-4db8-ef4b-2b2875d110d1"
      },
      "source": [
        "jb_stats = jarque_bera(exam_scores)\n",
        "norm_stats = normaltest(exam_scores)\n",
        "\n",
        "print(\"Jarque-Bera test statistics is {0} and p value is {1}\".format(jb_stats[0], jb_stats[1]))\n",
        "print(\"Normality test statistics is {0} and p value is {1}\".format(norm_stats[0], norm_stats[1]))"
      ],
      "execution_count": null,
      "outputs": [
        {
          "output_type": "stream",
          "text": [
            "Jarque-Bera test statistics is 15.453387913085168 and p value is 0.00044089934264401887\n",
            "Normality test statistics is 15.186721327231322 and p value is 0.0005037851534494478\n"
          ],
          "name": "stdout"
        }
      ]
    },
    {
      "cell_type": "markdown",
      "metadata": {
        "id": "tm-zAr13ZLnV"
      },
      "source": [
        "not normally distributed based on normalization tests"
      ]
    },
    {
      "cell_type": "markdown",
      "metadata": {
        "id": "lhpY-B_bZYx1"
      },
      "source": [
        "applying boxcox transformation"
      ]
    },
    {
      "cell_type": "code",
      "metadata": {
        "colab": {
          "base_uri": "https://localhost:8080/",
          "height": 297
        },
        "id": "e3zj6lbTZUBL",
        "outputId": "1e79075c-fbb9-493e-e296-18449c79e1d5"
      },
      "source": [
        "scores_boxcox,_=boxcox(exam_scores)\n",
        "plt.hist(scores_boxcox)\n",
        "plt.title('average of exam scores(boxcox version')\n"
      ],
      "execution_count": null,
      "outputs": [
        {
          "output_type": "execute_result",
          "data": {
            "text/plain": [
              "Text(0.5, 1.0, 'average of exam scores(boxcox version')"
            ]
          },
          "metadata": {
            "tags": []
          },
          "execution_count": 49
        },
        {
          "output_type": "display_data",
          "data": {
            "image/png": "[encoded data removed]",
            "text/plain": [
              "<Figure size 432x288 with 1 Axes>"
            ]
          },
          "metadata": {
            "tags": [],
            "needs_background": "light"
          }
        }
      ]
    },
    {
      "cell_type": "code",
      "metadata": {
        "colab": {
          "base_uri": "https://localhost:8080/"
        },
        "id": "jaI3QhPvaPPM",
        "outputId": "b82316cf-46a4-4752-a555-2571fd5ceebc"
      },
      "source": [
        "jb_stats = jarque_bera(scores_boxcox)\n",
        "norm_stats = normaltest(scores_boxcox)\n",
        "\n",
        "print(\"Jarque-Bera test statistics is {0} and p value is {1}\".format(jb_stats[0], jb_stats[1]))\n",
        "print(\"Normality test statistics is {0} and p value is {1}\".format(norm_stats[0], norm_stats[1]))"
      ],
      "execution_count": null,
      "outputs": [
        {
          "output_type": "stream",
          "text": [
            "Jarque-Bera test statistics is 2.4353989331279 and p value is 0.2959101356398447\n",
            "Normality test statistics is 2.779857602227616 and p value is 0.24909303914726724\n"
          ],
          "name": "stdout"
        }
      ]
    },
    {
      "cell_type": "markdown",
      "metadata": {
        "id": "8x5ksmTDaij4"
      },
      "source": [
        "normally distributed based on histogram and normality tests"
      ]
    }
  ]
}